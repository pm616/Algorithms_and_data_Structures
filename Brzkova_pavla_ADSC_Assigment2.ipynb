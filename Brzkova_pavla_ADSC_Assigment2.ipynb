{
 "cells": [
  {
   "cell_type": "markdown",
   "metadata": {},
   "source": [
    "1.Paraphrase the problem in your own words:\n",
    " - An algorithme should check, whether there is a duplicate value in the tree and return possible scenarios:\n",
    "    * no duplicate value -> return -1\n",
    "    * duplicate value -> return duplicate value\n",
    "    * multiple duplicates -> return the the closest to the root"
   ]
  },
  {
   "cell_type": "markdown",
   "metadata": {},
   "source": [
    "2.Create 1 new example that demonstrates you understand the problem. Trace/walkthrough 1 example that your partner made and explain it."
   ]
  },
  {
   "cell_type": "markdown",
   "metadata": {},
   "source": [
    "2.1 new example:\n",
    "\n",
    "<img src=\"image.png\" alt=\"Drawing\" style=\"width: 500px;\"/>\n",
    "\n",
    "-   This binary tree doesn't have any duplicates, therefore the output should be -1. "
   ]
  },
  {
   "cell_type": "code",
   "execution_count": 2,
   "metadata": {},
   "outputs": [
    {
     "name": "stdout",
     "output_type": "stream",
     "text": [
      "-1\n"
     ]
    }
   ],
   "source": [
    "class TreeNode:\n",
    "    def __init__(self, val=0, left=None, right=None):\n",
    "        self.val = val\n",
    "        self.left = left\n",
    "        self.right = right\n",
    "def find_closest_duplicate(root):\n",
    "    if not root:\n",
    "        return -1\n",
    "    queue = [(root, 1)] # Tuple format: (node, level)\n",
    "    seen_values = set()\n",
    "\n",
    "    closest_duplicate = None\n",
    "    closest_level = float('inf')\n",
    "\n",
    "    front = 0 # Pointer for the front of the queue\n",
    "    while front < len(queue):\n",
    "        node, level = queue[front]\n",
    "        front += 1\n",
    "        \n",
    "        if node.val in seen_values:\n",
    "            if level < closest_level:\n",
    "                closest_duplicate = node.val\n",
    "                closest_level = level\n",
    "        seen_values.add(node.val)\n",
    "        \n",
    "        if node.left:\n",
    "            queue.append((node.left, level + 1))\n",
    "        if node.right:\n",
    "            queue.append((node.right, level + 1))\n",
    "    return closest_duplicate if closest_duplicate is not None else -1\n",
    "\n",
    "# Example usage:\n",
    "root1 = TreeNode(6)\n",
    "root1.left = TreeNode(7)\n",
    "root1.right = TreeNode(8)\n",
    "root1.right.left = TreeNode(9)\n",
    "root1.right.right = TreeNode(10)\n",
    "\n",
    "print(find_closest_duplicate(root1)) # Output: -1\n"
   ]
  },
  {
   "cell_type": "markdown",
   "metadata": {},
   "source": [
    "2.2 example\n",
    "![alt text](image-1.png)\n",
    "\n",
    "- The code should return duplicate values and return the one, closest to the root.  The above example binary tree shows 2 duplicates -> 3 and 5, and the output should be 3, because this is the closest number to the root. Number 5 is a root value, which doesn't count. "
   ]
  },
  {
   "cell_type": "markdown",
   "metadata": {},
   "source": [
    "3.Copy the solution your partner wrote."
   ]
  },
  {
   "cell_type": "code",
   "execution_count": 1,
   "metadata": {},
   "outputs": [
    {
     "name": "stdout",
     "output_type": "stream",
     "text": [
      "2\n",
      "10\n",
      "-1\n"
     ]
    }
   ],
   "source": [
    "# Definition for a binary tree node.\n",
    "class TreeNode:\n",
    "    def __init__(self, val=0, left=None, right=None):\n",
    "        self.val = val\n",
    "        self.left = left\n",
    "        self.right = right\n",
    "        \n",
    "def find_closest_duplicate(root):\n",
    "    if not root:\n",
    "        return -1\n",
    "    queue = [(root, 1)] # Tuple format: (node, level)\n",
    "    seen_values = set()\n",
    "\n",
    "    closest_duplicate = None\n",
    "    closest_level = float('inf')\n",
    "\n",
    "    front = 0 # Pointer for the front of the queue\n",
    "    while front < len(queue):\n",
    "        node, level = queue[front]\n",
    "        front += 1\n",
    "        \n",
    "        if node.val in seen_values:\n",
    "            if level < closest_level:\n",
    "                closest_duplicate = node.val\n",
    "                closest_level = level\n",
    "        seen_values.add(node.val)\n",
    "        \n",
    "        if node.left:\n",
    "            queue.append((node.left, level + 1))\n",
    "        if node.right:\n",
    "            queue.append((node.right, level + 1))\n",
    "    return closest_duplicate if closest_duplicate is not None else -1\n",
    "\n",
    "# Example usage:\n",
    "root1 = TreeNode(1)\n",
    "root1.left = TreeNode(2)\n",
    "root1.right = TreeNode(2)\n",
    "root1.left.left = TreeNode(3)\n",
    "root1.left.right = TreeNode(5)\n",
    "root1.right.left = TreeNode(6)\n",
    "root1.right.right = TreeNode(7)\n",
    "print(find_closest_duplicate(root1)) # Output: 2\n",
    "\n",
    "root2 = TreeNode(1)\n",
    "root2.left = TreeNode(10)\n",
    "root2.right = TreeNode(2)\n",
    "root2.left.left = TreeNode(3)\n",
    "root2.left.right = TreeNode(10)\n",
    "root2.right.left = TreeNode(12)\n",
    "root2.right.right = TreeNode(12)\n",
    "print(find_closest_duplicate(root2)) # Output: 10\n",
    "\n",
    "root3 = TreeNode(10)\n",
    "root3.left = TreeNode(9)\n",
    "root3.left.left = TreeNode(8)\n",
    "root3.left.left.left = TreeNode(7)\n",
    "print(find_closest_duplicate(root3)) # Output: -1"
   ]
  },
  {
   "cell_type": "markdown",
   "metadata": {},
   "source": [
    "4.Explain why the solution works in own words:\n",
    "-   The solution operates by utilizing a queue to generate a set of values. When a value is the same, the level increases, indicating its proximity to the root. If there is no root or any duplicates, the output is -1."
   ]
  },
  {
   "cell_type": "markdown",
   "metadata": {},
   "source": [
    "5.Explain the problem’s time and space complexity in your own words:\n",
    "-   For a binary tree evenly distributed like examples 1 and 2 (root1 and root2), the tree's height is determined by Log N, representing the number of nodes needed to traverse for insertion. Consequently, the total runtime during execution of the while loop is O(Log N).\n",
    "\n",
    "-   In contrast, for a non-evenly distributed binary tree like example 3 (root3), the tree's height equals the number of nodes in the tree, resulting in a runtime complexity of O(N), or specifically O(3)."
   ]
  },
  {
   "cell_type": "markdown",
   "metadata": {},
   "source": [
    "6.Critique your partner's solution, including explanation, if there is anything should be adjusted.\n",
    "\n",
    "-   I consider my partner's solution efficient because the tree's height is minimal, resulting in fewer key comparisons.\n",
    "-   Additionally, for larger datasets, I suggest searching for duplicates, tallying their occurrences, and subsequently removing them."
   ]
  },
  {
   "cell_type": "markdown",
   "metadata": {},
   "source": [
    "7.Reflection:\n",
    "\n",
    "Understanding binary trees necessitated a multi-faceted approach. Firstly, grasping the fundamental concepts of nodes, leaves, and branches laid the groundwork. As I delved deeper, comprehending the various types of binary trees - including balanced, unbalanced. I mostly relied on the course videos and books - Introduction to algorithms and Algorithms.\n",
    "\n",
    "Time and space complexity analysis proved pivotal in evaluating the efficiency of binary tree operations. Through analysis, I learned to assess the runtime and memory requirements of algorithms, aiding in the selection of optimal solutions for different scenarios. Learning  concepts like Big O notation provided a standardized framework for comparing algorithms and predicting their scalability.\n",
    "\n",
    "However, implementing algorithms and traversals in practical coding exercises solidified my comprehension and honed my problem-solving skills. Iterative practice, coupled with experimentation, fostered a deeper intuition for navigating the complexities of binary trees.\n",
    "\n",
    "Unfortunately, I didn't have a chance to review the assigment with my partner. \n",
    "\n"
   ]
  }
 ],
 "metadata": {
  "kernelspec": {
   "display_name": "Python 3",
   "language": "python",
   "name": "python3"
  },
  "language_info": {
   "codemirror_mode": {
    "name": "ipython",
    "version": 3
   },
   "file_extension": ".py",
   "mimetype": "text/x-python",
   "name": "python",
   "nbconvert_exporter": "python",
   "pygments_lexer": "ipython3",
   "version": "3.11.7"
  }
 },
 "nbformat": 4,
 "nbformat_minor": 2
}
